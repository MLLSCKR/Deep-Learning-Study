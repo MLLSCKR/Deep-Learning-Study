{
 "cells": [
  {
   "cell_type": "code",
   "execution_count": 1,
   "id": "77052550",
   "metadata": {},
   "outputs": [
    {
     "name": "stdout",
     "output_type": "stream",
     "text": [
      "Epoch 1 : loss = 35.182, accuracy = 0.547/0.803\n",
      "Epoch 2 : loss = 8.874, accuracy = 0.814/0.809\n",
      "Epoch 3 : loss = 8.134, accuracy = 0.805/0.803\n",
      "Epoch 4 : loss = 8.017, accuracy = 0.802/0.804\n",
      "Epoch 5 : loss = 7.924, accuracy = 0.803/0.802\n",
      "Epoch 6 : loss = 7.843, accuracy = 0.802/0.803\n",
      "Epoch 7 : loss = 7.767, accuracy = 0.802/0.804\n",
      "Epoch 8 : loss = 7.697, accuracy = 0.802/0.806\n",
      "Epoch 9 : loss = 7.634, accuracy = 0.805/0.804\n",
      "Epoch 10 : loss = 7.574, accuracy = 0.804/0.805\n",
      "\n",
      " Final Test : final accuracy = 0.805\n",
      "[[0.55842942]\n",
      " [0.76572744]\n",
      " [0.00429812]\n",
      " [2.24857982]\n",
      " [1.78899292]\n",
      " [0.66286655]\n",
      " [2.723841  ]\n",
      " [0.65809305]\n",
      " [0.54706306]\n",
      " [1.1225188 ]]\n",
      "[4.52425871]\n",
      "Epoch 1 : loss = 7.521, accuracy = 0.803/0.757\n",
      "Epoch 2 : loss = 6.212, accuracy = 0.817/0.803\n",
      "Epoch 3 : loss = 5.859, accuracy = 0.824/0.835\n",
      "Epoch 4 : loss = 5.598, accuracy = 0.828/0.838\n",
      "Epoch 5 : loss = 5.440, accuracy = 0.830/0.838\n",
      "Epoch 6 : loss = 5.240, accuracy = 0.834/0.796\n",
      "Epoch 7 : loss = 5.201, accuracy = 0.834/0.850\n",
      "Epoch 8 : loss = 5.135, accuracy = 0.834/0.820\n",
      "Epoch 9 : loss = 5.172, accuracy = 0.834/0.812\n",
      "Epoch 10 : loss = 5.157, accuracy = 0.834/0.846\n",
      "\n",
      " Final Test : final accuracy = 0.846\n"
     ]
    }
   ],
   "source": [
    "%run ../Regression_Analysis/SLP_REGRESSION.ipynb"
   ]
  },
  {
   "cell_type": "code",
   "execution_count": 2,
   "id": "9d4b9d7b",
   "metadata": {},
   "outputs": [
    {
     "data": {
      "text/plain": [
       "'\\nSteel_exec -> load_steel_dataset\\n           -> init_model\\n           -> train_and_test -> arrange_data\\n                             -> get_train_data\\n                             -> get_test_data\\n                             -> run_train -> forward_nueralnet\\n                                          -> forward_postproc -> softmax_cross_entropy_with_logits -> softmax\\n                                          -> eval_accuracy\\n                                          -> backprop_neuralnet -> softmax_cross_entropy_with_logits_derv -> softmax\\n                                          -> backprop_postproc\\n                             -> run_test -> forward_neuralnet\\n                                         -> forward_postproc\\n                                         -> eval_accuracy\\n'"
      ]
     },
     "execution_count": 2,
     "metadata": {},
     "output_type": "execute_result"
    }
   ],
   "source": [
    "### Function Call Relation\n",
    "\"\"\"\n",
    "Steel_exec -> load_steel_dataset\n",
    "           -> init_model\n",
    "           -> train_and_test -> arrange_data\n",
    "                             -> get_train_data\n",
    "                             -> get_test_data\n",
    "                             -> run_train -> forward_nueralnet\n",
    "                                          -> forward_postproc -> softmax_cross_entropy_with_logits -> softmax\n",
    "                                          -> eval_accuracy\n",
    "                                          -> backprop_neuralnet -> softmax_cross_entropy_with_logits_derv -> softmax\n",
    "                                          -> backprop_postproc\n",
    "                             -> run_test -> forward_neuralnet\n",
    "                                         -> forward_postproc\n",
    "                                         -> eval_accuracy\n",
    "\"\"\""
   ]
  },
  {
   "cell_type": "code",
   "execution_count": 3,
   "id": "0111f1b4",
   "metadata": {},
   "outputs": [],
   "source": [
    "# define main function(steel_exec)\n",
    "\n",
    "def steel_exec(epoch_count = 10, mb_size = 10, report = 1):\n",
    "    load_steel_dataset()\n",
    "    init_model()\n",
    "    train_and_test(epoch_count, mb_size, report)\n",
    "    "
   ]
  },
  {
   "cell_type": "code",
   "execution_count": 4,
   "id": "9f022019",
   "metadata": {},
   "outputs": [],
   "source": [
    "def load_steel_dataset():\n",
    "    with open('./archive/faults.csv') as csvfile:\n",
    "        csvreader = csv.reader(csvfile)\n",
    "        next(csvreader, None)\n",
    "        rows = []\n",
    "        for row in csvreader:\n",
    "            rows.append(row)\n",
    "            \n",
    "    global data, input_cnt, output_cnt\n",
    "    \n",
    "    input_cnt, output_cnt = 27, 7\n",
    "    data = np.asarray(rows, dtype = 'float32')\n",
    "    "
   ]
  },
  {
   "cell_type": "code",
   "execution_count": 5,
   "id": "825b0657",
   "metadata": {},
   "outputs": [],
   "source": [
    "# redefine forward postproc and backprop postproc functions\n",
    "\n",
    "def forward_postproc(output, y):\n",
    "    entropy = softmax_cross_entropy_with_logits(y, output)\n",
    "    loss = np.mean(entropy)\n",
    "       \n",
    "    return loss, [y, output, entropy]\n",
    "\n",
    "def backprop_postproc(G_loss, aux):\n",
    "    y, output, entropy = aux\n",
    "    \n",
    "    g_loss_entropy = 1.0 / np.prod(entropy.shape)\n",
    "    g_entropy_output = softmax_cross_entropy_with_logits_derv(y, output)\n",
    "    \n",
    "    G_entropy = g_loss_entropy * G_loss\n",
    "    G_output = g_entropy_output * G_entropy\n",
    "        \n",
    "    return G_output"
   ]
  },
  {
   "cell_type": "code",
   "execution_count": 6,
   "id": "3c443672",
   "metadata": {},
   "outputs": [],
   "source": [
    "# redefine eval_accuracy function\n",
    "\n",
    "def eval_accuracy(output, y):\n",
    "    estimate = np.argmax(output, axis = 1)\n",
    "    answer = np.argmax(y, axis = 1)\n",
    "    correct = np.equal(estimate, answer)\n",
    "    \n",
    "    return np.mean(correct)"
   ]
  },
  {
   "cell_type": "code",
   "execution_count": 7,
   "id": "2036f2fc",
   "metadata": {},
   "outputs": [],
   "source": [
    "# define softmax related functions\n",
    "\n",
    "def softmax(x):\n",
    "    max_elem = np.max(x, axis = 1)\n",
    "    diff = (x.transpose() - max_elem).transpose()\n",
    "    exp = np.exp(diff)\n",
    "    sum_exp = np.sum(exp, axis = 1)\n",
    "    prods = (exp.transpose() / sum_exp).transpose()\n",
    "    \n",
    "    return prods\n",
    "\n",
    "def softmax_derv(x, y):\n",
    "    mb_size, nom_size = x.shape\n",
    "    derv = np.ndarray([mb_size, nom_size, nom_size])\n",
    "    \n",
    "    for n in range(mb_size):\n",
    "        for i in range(nom_size):\n",
    "            for j in range(nom_size):\n",
    "                derv[n, i, j] = -y[n, i] * y[n, j]\n",
    "                \n",
    "            derv[n, i, i] += y[n, i]\n",
    "    \n",
    "    return derv\n",
    "\n",
    "def softmax_cross_entropy_with_logits(labels, logits):\n",
    "    probs = softmax(logits)\n",
    "    return -np.sum(labels * np.log(probs + 1.0e-10), axis = 1)\n",
    "\n",
    "def softmax_cross_entropy_with_logits_derv(labels, logits):\n",
    "    return softmax(logits) - labels"
   ]
  },
  {
   "cell_type": "code",
   "execution_count": 8,
   "id": "4f08b42d",
   "metadata": {},
   "outputs": [],
   "source": [
    "def backprop_neuralnet(G_output, x):\n",
    "    global weight, bias\n",
    "    g_output_w = x.transpose()\n",
    "    \n",
    "    G_w = np.matmul(g_output_w, G_output)\n",
    "    G_b = np.sum(G_output, axis = 0)\n",
    "    \n",
    "    weight -= LEARNING_RATE * G_w\n",
    "    bias -= LEARNING_RATE * G_b"
   ]
  },
  {
   "cell_type": "code",
   "execution_count": 9,
   "id": "11f8fefc",
   "metadata": {},
   "outputs": [
    {
     "name": "stdout",
     "output_type": "stream",
     "text": [
      "Epoch 1 : loss = 16.059, accuracy = 0.303/0.432\n",
      "Epoch 2 : loss = 15.910, accuracy = 0.309/0.223\n",
      "Epoch 3 : loss = 15.152, accuracy = 0.342/0.294\n",
      "Epoch 4 : loss = 15.301, accuracy = 0.335/0.215\n",
      "Epoch 5 : loss = 15.078, accuracy = 0.345/0.187\n",
      "Epoch 6 : loss = 15.182, accuracy = 0.341/0.332\n",
      "Epoch 7 : loss = 14.915, accuracy = 0.352/0.223\n",
      "Epoch 8 : loss = 15.450, accuracy = 0.329/0.437\n",
      "Epoch 9 : loss = 15.464, accuracy = 0.328/0.187\n",
      "Epoch 10 : loss = 15.093, accuracy = 0.345/0.330\n",
      "\n",
      " Final Test : final accuracy = 0.330\n"
     ]
    }
   ],
   "source": [
    "steel_exec()"
   ]
  },
  {
   "cell_type": "code",
   "execution_count": null,
   "id": "a5b0b834",
   "metadata": {},
   "outputs": [],
   "source": []
  },
  {
   "cell_type": "code",
   "execution_count": 10,
   "id": "e0ebbf5c",
   "metadata": {},
   "outputs": [],
   "source": [
    "a = np.array([[1, 2, 3],\n",
    "            [3, 2, 1]])"
   ]
  },
  {
   "cell_type": "code",
   "execution_count": 11,
   "id": "7bc2215e",
   "metadata": {},
   "outputs": [
    {
     "data": {
      "text/plain": [
       "(2, 3)"
      ]
     },
     "execution_count": 11,
     "metadata": {},
     "output_type": "execute_result"
    }
   ],
   "source": [
    "a.shape"
   ]
  },
  {
   "cell_type": "code",
   "execution_count": null,
   "id": "8505cf0d",
   "metadata": {},
   "outputs": [],
   "source": []
  }
 ],
 "metadata": {
  "kernelspec": {
   "display_name": "Python 3 (ipykernel)",
   "language": "python",
   "name": "python3"
  },
  "language_info": {
   "codemirror_mode": {
    "name": "ipython",
    "version": 3
   },
   "file_extension": ".py",
   "mimetype": "text/x-python",
   "name": "python",
   "nbconvert_exporter": "python",
   "pygments_lexer": "ipython3",
   "version": "3.9.12"
  }
 },
 "nbformat": 4,
 "nbformat_minor": 5
}
