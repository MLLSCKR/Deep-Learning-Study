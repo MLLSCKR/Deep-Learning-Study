{
 "cells": [
  {
   "cell_type": "markdown",
   "id": "a76457c6",
   "metadata": {},
   "source": [
    "# SLP\n",
    "\n",
    "## 선택 분류 문제의 신경망 처리\n",
    "\n",
    "선택 분류 문제는 몇 가지 정해진 후보 가운데 하나를 골라 답하는 문제이다. 선택 분류는 후보 항목이 여럿인 탓에 처리 방법이 달라지기는 하지만 기본적으로 Binary Classification과 유사하다.\n",
    "\n",
    "Binary Classification처럼 신경망이 직접 후보 항목의 번호를 지정한다거나 각 후보 항목의 확률값을 계산하기는 어렵지만, 선택 분류 신경망은 Binary Classification처럼 일단 각 후보 항목에 대한 로그 척도의 상대적 추천 강도, 즉 로짓값을 추정하도록 구성된다.\n",
    "\n",
    "로짓값은 상대적인 가능성을 로그를 이용해 나타낸 값이다. 선택 분류에서 로짓값의 표현 대상은 각 후보 항목을 답으로 추정할 확률이다.\n",
    "    \n",
    "    ex1) A 항목의 로짓값 : 3, B 항목의 로짓값 : 1 => A 항목을 답으로 추정할 확률이 B 보다 $e^(3-1) = e^2 = 7.39$ 배 더 크다\n",
    "    \n",
    "    ex2) A 항목의 로짓값 : 36.5, B 항목의 로짓갑 : 34.5 => A 항목을 답으로 추정할 확률이 B 보다 $e^(36.5-34.5) = e^2 = 7.39$ 배 더 크다\n",
    "\n",
    "선택 분류 자체만 생각한다면 로짓값들을 구하는 것으로 충분하며 굳이 이를 확률로 변환하여 확률 분포를 따질 필요가 없다. 로짓값이 크면 확률도 크기 때문에 가장 큰 로짓값을 갖는 항목을 선택하면 가장 높은 확률을 갖는 항목을 선택하는 것과 동일하다. 하지만 로짓값만으로는 마땅한 학습 방법을 찾기 어려웠다.\n",
    "\n",
    "이런 상황에서 사용한 개념이 확률 분포와 교차 엔트로피 개념이다. 선택 분류 문제에서도 신경망이 추정한 확률 분포와 정답이 나타내는 확률 분포 사이의 교차 엔트로피를 구할 수 있고 이를 손실 함수 삼아 학습을 수해앟여 신경망의 선택을 점점 더 정답에 근접시킬 수 있다.\n",
    "\n",
    "이에 따라 복수의 후보 항목들에 대한 로짓값 벡터를 확률 분포 벡터로 변환하는 함수와 이렇게 구해진 확률 분포와 정답에 나타난 확률 분포 사이의 교차 엔트로피를 계산해주는 함수가 필요하다. 소프트맥스 함수와 소프트맥스 교차 엔트로피 함수가 선택 분류 문제를 해결하기 위해 사용된다.\n",
    "\n",
    "## Softmax(소프트맥스) 함수\n",
    "\n",
    "소프트맥스 함수는 로짓값 벡터를 확률 분포 벡터로 변환해주는 비선형 함수다.\n"
   ]
  },
  {
   "cell_type": "code",
   "execution_count": null,
   "id": "87640fbd",
   "metadata": {},
   "outputs": [],
   "source": []
  },
  {
   "cell_type": "code",
   "execution_count": null,
   "id": "24c6976e",
   "metadata": {},
   "outputs": [],
   "source": []
  },
  {
   "cell_type": "code",
   "execution_count": null,
   "id": "14ee3f1d",
   "metadata": {},
   "outputs": [],
   "source": []
  },
  {
   "cell_type": "code",
   "execution_count": null,
   "id": "33dc0c01",
   "metadata": {},
   "outputs": [],
   "source": []
  },
  {
   "cell_type": "code",
   "execution_count": null,
   "id": "d8401b80",
   "metadata": {},
   "outputs": [],
   "source": []
  }
 ],
 "metadata": {
  "kernelspec": {
   "display_name": "Python 3 (ipykernel)",
   "language": "python",
   "name": "python3"
  },
  "language_info": {
   "codemirror_mode": {
    "name": "ipython",
    "version": 3
   },
   "file_extension": ".py",
   "mimetype": "text/x-python",
   "name": "python",
   "nbconvert_exporter": "python",
   "pygments_lexer": "ipython3",
   "version": "3.9.7"
  }
 },
 "nbformat": 4,
 "nbformat_minor": 5
}
