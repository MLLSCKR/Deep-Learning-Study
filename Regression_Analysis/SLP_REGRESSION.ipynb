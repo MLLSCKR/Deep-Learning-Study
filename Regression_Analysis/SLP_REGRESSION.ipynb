{
 "cells": [
  {
   "cell_type": "code",
   "execution_count": 19,
   "id": "71d7cbe3",
   "metadata": {},
   "outputs": [],
   "source": [
    "import numpy as np\n",
    "import csv\n",
    "import time\n",
    "\n",
    "np.random.seed(1234)\n",
    "\n",
    "def randomize():\n",
    "        np.random.seed(time.time())"
   ]
  },
  {
   "cell_type": "code",
   "execution_count": 20,
   "id": "6ca2bf71",
   "metadata": {},
   "outputs": [],
   "source": [
    "# define hyperparameter\n",
    "\n",
    "RND_MEAN = 0\n",
    "RND_STD = 0.003\n",
    "# RND_MEAN, RND_STE WILL BE USED FOR RANDOM DISTRIBUTION'S MEAN AND STD\n",
    "\n",
    "LEARNING_RATE = 0.001"
   ]
  },
  {
   "cell_type": "markdown",
   "id": "287577a9",
   "metadata": {},
   "source": [
    "## SLP REGRESSION function call relation\n",
    "\n",
    "<img src = \"KakaoTalk_20220426_231100067.jpg\" width = \"700px\">"
   ]
  },
  {
   "cell_type": "code",
   "execution_count": 21,
   "id": "53fe47bc",
   "metadata": {},
   "outputs": [],
   "source": [
    "# main function\n",
    "\n",
    "def slp_regression(epoch_count = 10, mb_size = 10, report = 1, \n",
    "                   dataset_path = \"C:/Users/user/Desktop/PythonLecture/Deep Learning Study/SLP/Regression_Analysis/archive/abalone.csv\"):\n",
    "    load_dataset(dataset_path)\n",
    "    init_model()\n",
    "    train_and_test(epoch_count, mb_size, report)"
   ]
  },
  {
   "cell_type": "code",
   "execution_count": 22,
   "id": "6e5c4aca",
   "metadata": {},
   "outputs": [],
   "source": [
    "# data load function\n",
    "\n",
    "def load_dataset(dataset_path):\n",
    "    with open(dataset_path) as csvfile:\n",
    "        csvreader = csv.reader(csvfile)\n",
    "        next(csvreader, None)\n",
    "        rows = []\n",
    "        \n",
    "        for row in csvreader:\n",
    "            rows.append(row)\n",
    "    \n",
    "    global data, input_cnt, output_cnt\n",
    "    input_cnt, output_cnt = 10, 1\n",
    "    \n",
    "    data = np.zeros([len(rows), input_cnt + output_cnt])\n",
    "    \n",
    "    for n, row in enumerate(rows):\n",
    "        if row[0] == 'I':\n",
    "            data[n, 0] = 1\n",
    "        if row[0] == 'M':\n",
    "            data[n, 1] = 1\n",
    "        if row[0] == 'W':\n",
    "            data[n, 2] = 1\n",
    "        \n",
    "        data[n, 3:] = row[1:]\n"
   ]
  },
  {
   "cell_type": "code",
   "execution_count": 31,
   "id": "fcd43410",
   "metadata": {},
   "outputs": [],
   "source": [
    "# initialize parameter function\n",
    "\n",
    "def init_model():\n",
    "    global weight, bias, input_cnt, output_cnt\n",
    "    \n",
    "    # randomly initialize weights\n",
    "    weight = np.random.normal(RND_MEAN, RND_STD, [input_cnt, output_cnt])\n",
    "    \n",
    "    bias = np.zeros([output_cnt])"
   ]
  },
  {
   "cell_type": "code",
   "execution_count": 24,
   "id": "cf93602e",
   "metadata": {},
   "outputs": [],
   "source": [
    "# train and test function\n",
    "\n",
    "def train_and_test(epoch_count, mb_size, report):\n",
    "    step_count = arrange_data(mb_size)\n",
    "    test_x, test_y = get_test_data()\n",
    "    \n",
    "    for epoch in range(epoch_count):\n",
    "        losses, accs = [], []\n",
    "        \n",
    "        for n in range(step_count):\n",
    "            train_x, train_y = get_train_data(mb_size, n)\n",
    "            loss, acc = run_train(train_x, train_y)\n",
    "            losses.append(loss)\n",
    "            accs.append(acc)\n",
    "            \n",
    "        if report > 0 and (epoch + 1) % report == 0:\n",
    "            acc = run_test(test_x, test_y)\n",
    "            print('Epoch {} : loss = {:5.3f}, accuracy = {:5.3f}/{:5.3f}' .format(epoch+1, np.mean(losses), np.mean(accs), acc))\n",
    "            \n",
    "    final_acc = run_test(test_x, test_y)\n",
    "    print('\\n Final Test : final accuracy = {:5.3f}' .format(final_acc))"
   ]
  },
  {
   "cell_type": "code",
   "execution_count": 25,
   "id": "66201530",
   "metadata": {},
   "outputs": [],
   "source": [
    "# arrange data function\n",
    "# randomly shuffle data\n",
    "\n",
    "def arrange_data(mb_size):\n",
    "    global data, shuffle_map, test_begin_idx\n",
    "    \n",
    "    # shuffle_map : Serial Number\n",
    "    shuffle_map = np.arange(data.shape[0])\n",
    "    np.random.shuffle(shuffle_map)\n",
    "    \n",
    "    # data.shape[0] * 0.8 : number of train data\n",
    "    # step_count : iteration number for training\n",
    "    step_count = int(data.shape[0] * 0.8) // mb_size\n",
    "    \n",
    "    test_begin_idx = step_count * mb_size\n",
    "    \n",
    "    return step_count\n",
    "\n",
    "def get_test_data():\n",
    "    global data, shuffle_map, test_begin_idx, output_cnt\n",
    "    \n",
    "    test_data = data[shuffle_map[test_begin_idx:]]\n",
    "    \n",
    "    # return test data set by using shuffle_map(randomly shuffled serial number -> extract random datas from dataset)\n",
    "    return test_data[:, :-output_cnt], test_data[:, -output_cnt:]\n",
    "\n",
    "def get_train_data(mb_size, nth):\n",
    "    global data, shuffle_map, test_begin_idx, output_cnt\n",
    "    \n",
    "    if nth == 0:\n",
    "        np.random.shuffle(shuffle_map[:test_begin_idx])\n",
    "    train_data = data[shuffle_map[mb_size*nth : mb_size*(nth + 1)]]\n",
    "    \n",
    "    return train_data[:, :-output_cnt], train_data[:, -output_cnt:]"
   ]
  },
  {
   "cell_type": "code",
   "execution_count": 37,
   "id": "87bba4f5",
   "metadata": {},
   "outputs": [],
   "source": [
    "# run train function\n",
    "# One step learning is performed using the mini batch input matrix and the correct answer matrix given as part of the training data.\n",
    "def run_train(x, y):\n",
    "    \n",
    "    # perform forward propagation on the SLP neural network to obtain the neural network output\n",
    "    output, aux_nn = forward_neuralnet(x)\n",
    "    \n",
    "    # loss function is calculated from the output and y through a post processing forward propagation task tailored to the nature of the regression analysis ploblem\n",
    "    loss, aux_pp = forward_postproc(output, y)\n",
    "    accuracy = eval_accuracy(output, y)\n",
    "    \n",
    "    G_loss = 1.0\n",
    "    G_output = backprop_postproc(G_loss, aux_pp)\n",
    "    # while the backprop_neuralnet() function is being executed, the neural network parameter value changes (Learning actually happens)\n",
    "    backprop_neuralnet(G_output, aux_nn)\n",
    "    \n",
    "    return loss, accuracy\n",
    "\n",
    "# run test function\n",
    "def run_test(x, y):\n",
    "    output, _ = forward_neuralnet(x)\n",
    "    accuracy = eval_accuracy(output, y)\n",
    "    \n",
    "    return accuracy\n"
   ]
  },
  {
   "cell_type": "code",
   "execution_count": 35,
   "id": "ba2c6da1",
   "metadata": {},
   "outputs": [],
   "source": [
    "# forward propagation\n",
    "# forward neuralnet function\n",
    "def forward_neuralnet(x):\n",
    "    global weight, bias\n",
    "    output = np.matmul(x, weight) + bias\n",
    "    \n",
    "    return output, x\n",
    "\n",
    "# back propagation neuralnet function\n",
    "def backprop_neuralnet(G_output, x):\n",
    "    global weight, bias\n",
    "    g_output_w = x.transpose()\n",
    "    \n",
    "    G_w = np.matmul(g_output_w, G_output)\n",
    "    G_b = np.sum(G_output, axis = 0)\n",
    "    \n",
    "    weight -= LEARNING_RATE * G_w\n",
    "    bias -= LEARNING_RATE * G_b\n",
    "    "
   ]
  },
  {
   "cell_type": "code",
   "execution_count": 33,
   "id": "7bd15188",
   "metadata": {},
   "outputs": [],
   "source": [
    "def forward_postproc(output, y):\n",
    "    diff = output - y\n",
    "    \n",
    "    # MSE\n",
    "    square = np.square(diff)\n",
    "    loss = np.mean(square)\n",
    "    \n",
    "    return loss, diff\n",
    "\n",
    "def backprop_postproc(G_loss, diff):\n",
    "    shape = diff.shape\n",
    "    \n",
    "    g_loss_square = np.ones(shape) / np.prod(shape)\n",
    "    g_square_diff = 2 * diff\n",
    "    g_diff_output = 1\n",
    "    \n",
    "    G_square = g_loss_square * G_loss\n",
    "    G_diff = g_square_diff * G_square\n",
    "    G_output = g_diff_output * G_diff\n",
    "    \n",
    "    return G_output    "
   ]
  },
  {
   "cell_type": "code",
   "execution_count": 29,
   "id": "c7698952",
   "metadata": {},
   "outputs": [],
   "source": [
    "def eval_accuracy(output, y):\n",
    "    mdiff = np.mean(np.abs((output - y)/y))\n",
    "    \n",
    "    return 1 - mdiff"
   ]
  },
  {
   "cell_type": "code",
   "execution_count": 38,
   "id": "6b84283a",
   "metadata": {},
   "outputs": [
    {
     "name": "stdout",
     "output_type": "stream",
     "text": [
      "Epoch 1 : loss = 35.123, accuracy = 0.547/0.802\n",
      "Epoch 2 : loss = 8.801, accuracy = 0.815/0.804\n",
      "Epoch 3 : loss = 8.055, accuracy = 0.806/0.800\n",
      "Epoch 4 : loss = 7.940, accuracy = 0.804/0.798\n",
      "Epoch 5 : loss = 7.848, accuracy = 0.803/0.799\n",
      "Epoch 6 : loss = 7.768, accuracy = 0.804/0.798\n",
      "Epoch 7 : loss = 7.694, accuracy = 0.803/0.800\n",
      "Epoch 8 : loss = 7.626, accuracy = 0.805/0.799\n",
      "Epoch 9 : loss = 7.564, accuracy = 0.805/0.800\n",
      "Epoch 10 : loss = 7.506, accuracy = 0.805/0.800\n",
      "\n",
      " Final Test : final accuracy = 0.800\n"
     ]
    }
   ],
   "source": [
    "slp_regression()"
   ]
  },
  {
   "cell_type": "code",
   "execution_count": 39,
   "id": "a52423f9",
   "metadata": {},
   "outputs": [
    {
     "name": "stdout",
     "output_type": "stream",
     "text": [
      "[[ 5.69804204e-01]\n",
      " [ 8.06789894e-01]\n",
      " [-1.88280559e-04]\n",
      " [ 2.23920465e+00]\n",
      " [ 1.77663975e+00]\n",
      " [ 6.51870105e-01]\n",
      " [ 2.71027446e+00]\n",
      " [ 6.44969946e-01]\n",
      " [ 5.52622584e-01]\n",
      " [ 1.12557761e+00]]\n"
     ]
    }
   ],
   "source": [
    "print(weight)"
   ]
  },
  {
   "cell_type": "code",
   "execution_count": 40,
   "id": "59acfe1d",
   "metadata": {},
   "outputs": [
    {
     "name": "stdout",
     "output_type": "stream",
     "text": [
      "[4.5177512]\n"
     ]
    }
   ],
   "source": [
    "print(bias)"
   ]
  },
  {
   "cell_type": "code",
   "execution_count": 41,
   "id": "9d123bb4",
   "metadata": {},
   "outputs": [
    {
     "name": "stdout",
     "output_type": "stream",
     "text": [
      "Epoch 1 : loss = 7.705, accuracy = 0.802/0.833\n",
      "Epoch 2 : loss = 6.490, accuracy = 0.815/0.833\n",
      "Epoch 3 : loss = 6.068, accuracy = 0.821/0.852\n",
      "Epoch 4 : loss = 5.829, accuracy = 0.824/0.854\n",
      "Epoch 5 : loss = 5.704, accuracy = 0.826/0.855\n",
      "Epoch 6 : loss = 5.564, accuracy = 0.829/0.857\n",
      "Epoch 7 : loss = 5.470, accuracy = 0.829/0.820\n",
      "Epoch 8 : loss = 5.449, accuracy = 0.831/0.820\n",
      "Epoch 9 : loss = 5.481, accuracy = 0.830/0.832\n",
      "Epoch 10 : loss = 5.424, accuracy = 0.830/0.854\n",
      "\n",
      " Final Test : final accuracy = 0.854\n"
     ]
    }
   ],
   "source": [
    "LEARNING_RATE = 0.1\n",
    "slp_regression()"
   ]
  },
  {
   "cell_type": "code",
   "execution_count": null,
   "id": "9cd246f3",
   "metadata": {},
   "outputs": [],
   "source": []
  }
 ],
 "metadata": {
  "kernelspec": {
   "display_name": "Python 3 (ipykernel)",
   "language": "python",
   "name": "python3"
  },
  "language_info": {
   "codemirror_mode": {
    "name": "ipython",
    "version": 3
   },
   "file_extension": ".py",
   "mimetype": "text/x-python",
   "name": "python",
   "nbconvert_exporter": "python",
   "pygments_lexer": "ipython3",
   "version": "3.9.7"
  }
 },
 "nbformat": 4,
 "nbformat_minor": 5
}
