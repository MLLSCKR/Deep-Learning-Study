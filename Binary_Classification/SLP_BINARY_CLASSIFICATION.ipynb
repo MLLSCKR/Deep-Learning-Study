{
 "cells": [
  {
   "cell_type": "code",
   "execution_count": 1,
   "id": "8097d4ca",
   "metadata": {},
   "outputs": [
    {
     "name": "stdout",
     "output_type": "stream",
     "text": [
      "Epoch 1 : loss = 35.182, accuracy = 0.547/0.803\n",
      "Epoch 2 : loss = 8.874, accuracy = 0.814/0.809\n",
      "Epoch 3 : loss = 8.134, accuracy = 0.805/0.803\n",
      "Epoch 4 : loss = 8.017, accuracy = 0.802/0.804\n",
      "Epoch 5 : loss = 7.924, accuracy = 0.803/0.802\n",
      "Epoch 6 : loss = 7.843, accuracy = 0.802/0.803\n",
      "Epoch 7 : loss = 7.767, accuracy = 0.802/0.804\n",
      "Epoch 8 : loss = 7.697, accuracy = 0.802/0.806\n",
      "Epoch 9 : loss = 7.634, accuracy = 0.805/0.804\n",
      "Epoch 10 : loss = 7.574, accuracy = 0.804/0.805\n",
      "\n",
      " Final Test : final accuracy = 0.805\n",
      "[[0.55842942]\n",
      " [0.76572744]\n",
      " [0.00429812]\n",
      " [2.24857982]\n",
      " [1.78899292]\n",
      " [0.66286655]\n",
      " [2.723841  ]\n",
      " [0.65809305]\n",
      " [0.54706306]\n",
      " [1.1225188 ]]\n",
      "[4.52425871]\n",
      "Epoch 1 : loss = 7.521, accuracy = 0.803/0.757\n",
      "Epoch 2 : loss = 6.212, accuracy = 0.817/0.803\n",
      "Epoch 3 : loss = 5.859, accuracy = 0.824/0.835\n",
      "Epoch 4 : loss = 5.598, accuracy = 0.828/0.838\n",
      "Epoch 5 : loss = 5.440, accuracy = 0.830/0.838\n",
      "Epoch 6 : loss = 5.240, accuracy = 0.834/0.796\n",
      "Epoch 7 : loss = 5.201, accuracy = 0.834/0.850\n",
      "Epoch 8 : loss = 5.135, accuracy = 0.834/0.820\n",
      "Epoch 9 : loss = 5.172, accuracy = 0.834/0.812\n",
      "Epoch 10 : loss = 5.157, accuracy = 0.834/0.846\n",
      "\n",
      " Final Test : final accuracy = 0.846\n"
     ]
    }
   ],
   "source": [
    "%run ../Regression_Analysis/SLP_REGRESSION.ipynb"
   ]
  },
  {
   "cell_type": "markdown",
   "id": "33068ebe",
   "metadata": {},
   "source": [
    "## SLP REGRESSION function call relation\n",
    "\n",
    "<img src = \"KakaoTalk_20220501_175228225.jpg\" width = \"700px\">"
   ]
  },
  {
   "cell_type": "code",
   "execution_count": 2,
   "id": "698ffd1c",
   "metadata": {},
   "outputs": [],
   "source": [
    "def slp_binary_classification(epoch_count = 10, mb_size = 10, report = 1):\n",
    "    load_pulsar_dataset()\n",
    "    init_model()\n",
    "    train_and_test(epoch_count, mb_size, report)"
   ]
  },
  {
   "cell_type": "code",
   "execution_count": 3,
   "id": "e01ed525",
   "metadata": {},
   "outputs": [],
   "source": [
    "def load_pulsar_dataset():\n",
    "    with open('./pulsar_data/Pulsar.csv') as csvfile:\n",
    "        csvreader = csv.reader(csvfile)\n",
    "        next(csvreader, None)\n",
    "        rows = []\n",
    "        \n",
    "        for row in csvreader:\n",
    "            rows.append(row)\n",
    "        \n",
    "        global data, input_cnt, output_cnt\n",
    "        data = np.asarray(rows, dtype = float)\n",
    "        input_cnt = 8\n",
    "        output_cnt = 1"
   ]
  },
  {
   "cell_type": "code",
   "execution_count": 4,
   "id": "e4ce9e44",
   "metadata": {},
   "outputs": [],
   "source": [
    "def forward_postproc(output, y):\n",
    "    entropy = sigmoid_cross_entropy_with_logits(y, output)\n",
    "    loss = np.mean(entropy)\n",
    "    \n",
    "    return loss, [y, output, entropy]\n",
    "\n",
    "\n",
    "def backprop_postproc(G_loss, aux):\n",
    "    y, output, entropy = aux\n",
    "    \n",
    "    g_loss_entropy = 1.0/np.prod(entropy.shape)\n",
    "    g_entropy_output = sigmoid_cross_entropy_with_logits_derv(y, output)\n",
    "    \n",
    "    G_entropy = g_loss_entropy * G_loss\n",
    "    G_output = g_entropy_output * G_entropy\n",
    "    \n",
    "    return G_output"
   ]
  },
  {
   "cell_type": "code",
   "execution_count": 5,
   "id": "fd90a23f",
   "metadata": {},
   "outputs": [],
   "source": [
    "def eval_accuracy(output, y):\n",
    "    \n",
    "    \n",
    "    estimate = np.greater(output, 0)\n",
    "    answer = np.greater(y, 0.5)\n",
    "    correct = np.equal(estimate, answer)\n",
    "    \n",
    "    return np.mean(correct)\n",
    "\n"
   ]
  },
  {
   "cell_type": "code",
   "execution_count": 6,
   "id": "0211339c",
   "metadata": {},
   "outputs": [],
   "source": [
    "def relu(x):\n",
    "    return np.maximum(x, 0)\n",
    "\n",
    "def sigmoid(x):\n",
    "    return np.exp(-relu(-x)) / (1.0 + np.exp(-np.abs(x)))\n",
    "\n",
    "def sigmoid_derv(x, y):\n",
    "    return y*(1-y)\n",
    "\n",
    "def sigmoid_cross_entropy_with_logits(z, x):\n",
    "    return relu(x) - x * z + np.log(1 + np.exp(-np.abs(x)))\n",
    "\n",
    "def sigmoid_cross_entropy_with_logits_derv(z, x):\n",
    "    return -z + sigmoid(x)"
   ]
  },
  {
   "cell_type": "code",
   "execution_count": 7,
   "id": "612d06f6",
   "metadata": {},
   "outputs": [
    {
     "name": "stdout",
     "output_type": "stream",
     "text": [
      "Epoch 1 : loss = 15.499, accuracy = 0.947/0.953\n",
      "Epoch 2 : loss = 11.894, accuracy = 0.955/0.978\n",
      "Epoch 3 : loss = 13.117, accuracy = 0.955/0.973\n",
      "Epoch 4 : loss = 13.767, accuracy = 0.956/0.965\n",
      "Epoch 5 : loss = 11.882, accuracy = 0.956/0.968\n",
      "Epoch 6 : loss = 11.826, accuracy = 0.958/0.700\n",
      "Epoch 7 : loss = 12.427, accuracy = 0.956/0.967\n",
      "Epoch 8 : loss = 10.956, accuracy = 0.958/0.975\n",
      "Epoch 9 : loss = 13.241, accuracy = 0.958/0.963\n",
      "Epoch 10 : loss = 11.209, accuracy = 0.960/0.977\n",
      "\n",
      " Final Test : final accuracy = 0.977\n"
     ]
    }
   ],
   "source": [
    "slp_binary_classification()"
   ]
  },
  {
   "cell_type": "code",
   "execution_count": null,
   "id": "bdbe74fa",
   "metadata": {},
   "outputs": [],
   "source": []
  }
 ],
 "metadata": {
  "kernelspec": {
   "display_name": "Python 3 (ipykernel)",
   "language": "python",
   "name": "python3"
  },
  "language_info": {
   "codemirror_mode": {
    "name": "ipython",
    "version": 3
   },
   "file_extension": ".py",
   "mimetype": "text/x-python",
   "name": "python",
   "nbconvert_exporter": "python",
   "pygments_lexer": "ipython3",
   "version": "3.9.7"
  }
 },
 "nbformat": 4,
 "nbformat_minor": 5
}
