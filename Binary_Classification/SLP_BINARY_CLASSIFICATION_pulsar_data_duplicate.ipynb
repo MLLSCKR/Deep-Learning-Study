{
 "cells": [
  {
   "cell_type": "code",
   "execution_count": 1,
   "id": "8097d4ca",
   "metadata": {},
   "outputs": [
    {
     "name": "stdout",
     "output_type": "stream",
     "text": [
      "Epoch 1 : loss = 35.182, accuracy = 0.547/0.803\n",
      "Epoch 2 : loss = 8.874, accuracy = 0.814/0.809\n",
      "Epoch 3 : loss = 8.134, accuracy = 0.805/0.803\n",
      "Epoch 4 : loss = 8.017, accuracy = 0.802/0.804\n",
      "Epoch 5 : loss = 7.924, accuracy = 0.803/0.802\n",
      "Epoch 6 : loss = 7.843, accuracy = 0.802/0.803\n",
      "Epoch 7 : loss = 7.767, accuracy = 0.802/0.804\n",
      "Epoch 8 : loss = 7.697, accuracy = 0.802/0.806\n",
      "Epoch 9 : loss = 7.634, accuracy = 0.805/0.804\n",
      "Epoch 10 : loss = 7.574, accuracy = 0.804/0.805\n",
      "\n",
      " Final Test : final accuracy = 0.805\n",
      "[[0.55842942]\n",
      " [0.76572744]\n",
      " [0.00429812]\n",
      " [2.24857982]\n",
      " [1.78899292]\n",
      " [0.66286655]\n",
      " [2.723841  ]\n",
      " [0.65809305]\n",
      " [0.54706306]\n",
      " [1.1225188 ]]\n",
      "[4.52425871]\n",
      "Epoch 1 : loss = 7.521, accuracy = 0.803/0.757\n",
      "Epoch 2 : loss = 6.212, accuracy = 0.817/0.803\n",
      "Epoch 3 : loss = 5.859, accuracy = 0.824/0.835\n",
      "Epoch 4 : loss = 5.598, accuracy = 0.828/0.838\n",
      "Epoch 5 : loss = 5.440, accuracy = 0.830/0.838\n",
      "Epoch 6 : loss = 5.240, accuracy = 0.834/0.796\n",
      "Epoch 7 : loss = 5.201, accuracy = 0.834/0.850\n",
      "Epoch 8 : loss = 5.135, accuracy = 0.834/0.820\n",
      "Epoch 9 : loss = 5.172, accuracy = 0.834/0.812\n",
      "Epoch 10 : loss = 5.157, accuracy = 0.834/0.846\n",
      "\n",
      " Final Test : final accuracy = 0.846\n"
     ]
    }
   ],
   "source": [
    "%run ../Regression_Analysis/SLP_REGRESSION.ipynb"
   ]
  },
  {
   "cell_type": "markdown",
   "id": "33068ebe",
   "metadata": {},
   "source": [
    "## SLP REGRESSION function call relation\n",
    "\n",
    "<img src = \"KakaoTalk_20220501_175228225.jpg\" width = \"700px\">"
   ]
  },
  {
   "cell_type": "code",
   "execution_count": 2,
   "id": "698ffd1c",
   "metadata": {},
   "outputs": [],
   "source": [
    "def slp_binary_classification(epoch_count = 10, mb_size = 10, report = 1, adjust_ratio = False):\n",
    "    load_pulsar_dataset(adjust_ratio)\n",
    "    init_model()\n",
    "    train_and_test(epoch_count, mb_size, report)"
   ]
  },
  {
   "cell_type": "code",
   "execution_count": 3,
   "id": "e01ed525",
   "metadata": {},
   "outputs": [],
   "source": [
    "def load_pulsar_dataset(adjust_ratio):\n",
    "    pulsars, stars = [], []\n",
    "    \n",
    "    with open('./pulsar_data/Pulsar.csv') as csvfile:\n",
    "        csvreader = csv.reader(csvfile)\n",
    "        next(csvreader, None)\n",
    "        rows = []\n",
    "        \n",
    "        for row in csvreader:\n",
    "            if row[8] == '1':\n",
    "                pulsars.append(row)\n",
    "            else:\n",
    "                stars.append(row)\n",
    "            \n",
    "        \n",
    "        global data, input_cnt, output_cnt\n",
    "        input_cnt = 8\n",
    "        output_cnt = 1\n",
    "        \n",
    "        star_cnt, pulsar_cnt = len(stars), len(pulsars)\n",
    "        \n",
    "        if adjust_ratio:\n",
    "            data = np.zeros([2*star_cnt, 9])\n",
    "            data[0:star_cnt, :] = np.asarray(stars, dtype = float)\n",
    "            \n",
    "            for n in range(star_cnt):\n",
    "                data[star_cnt + n] = np.asarray(pulsars[n % pulsar_cnt], dtype = float)\n",
    "            \n",
    "        else:\n",
    "            data = np.zeros([star_cnt + pulsar_cnt, 9])\n",
    "            data[0:star_cnt, :] = np.asarray(stars, dtype = float)\n",
    "            data[star_cnt:, :] = np.asarray(pulsars, dtype = float)"
   ]
  },
  {
   "cell_type": "code",
   "execution_count": 4,
   "id": "3f9a5d24",
   "metadata": {},
   "outputs": [],
   "source": [
    "def train_and_test(epoch_count, mb_size, report):\n",
    "    step_count = arrange_data(mb_size)\n",
    "    test_x, test_y = get_test_data()\n",
    "    \n",
    "    for epoch in range(epoch_count):\n",
    "        losses = []\n",
    "        \n",
    "        for n in range(step_count):\n",
    "            train_x, train_y = get_train_data(mb_size, n)\n",
    "            loss, _  = run_train(train_x, train_y)\n",
    "            losses.append(loss)\n",
    "            \n",
    "        if (report > 0) and ((epoch+1) % report == 0):\n",
    "            acc = run_test(test_x, test_y)\n",
    "            acc_str = ','.join(['%5.3f']*4) % tuple(acc)\n",
    "            print('Epoch {} : loss = {:5.3f}, result = {}' .format(epoch + 1, np.mean(losses), acc_str))\n",
    "            \n",
    "    acc = run_test(test_x, test_y)\n",
    "    acc_str = ','.join(['%5.3f']*4) % tuple(acc)\n",
    "    print('\\n Final Test : final result = {}' .format(acc_str))"
   ]
  },
  {
   "cell_type": "code",
   "execution_count": 5,
   "id": "e4ce9e44",
   "metadata": {},
   "outputs": [],
   "source": [
    "def forward_postproc(output, y):\n",
    "    entropy = sigmoid_cross_entropy_with_logits(y, output)\n",
    "    loss = np.mean(entropy)\n",
    "    \n",
    "    return loss, [y, output, entropy]\n",
    "\n",
    "\n",
    "def backprop_postproc(G_loss, aux):\n",
    "    y, output, entropy = aux\n",
    "    \n",
    "    g_loss_entropy = 1.0/np.prod(entropy.shape)\n",
    "    g_entropy_output = sigmoid_cross_entropy_with_logits_derv(y, output)\n",
    "    \n",
    "    G_entropy = g_loss_entropy * G_loss\n",
    "    G_output = g_entropy_output * G_entropy\n",
    "    \n",
    "    return G_output"
   ]
  },
  {
   "cell_type": "code",
   "execution_count": 6,
   "id": "fd90a23f",
   "metadata": {},
   "outputs": [],
   "source": [
    "def eval_accuracy(output, y):\n",
    "    est_yes = np.greater(output, 0)\n",
    "    ans_yes = np.greater(y, 0.5)\n",
    "    est_no = np.logical_not(est_yes)\n",
    "    ans_no = np.logical_not(ans_yes)\n",
    "    \n",
    "    tp = np.sum(np.logical_and(est_yes, ans_yes))\n",
    "    fp = np.sum(np.logical_and(est_yes, ans_no))\n",
    "    fn = np.sum(np.logical_and(est_no, ans_yes))\n",
    "    tn = np.sum(np.logical_and(est_no, ans_no))\n",
    "    \n",
    "    accuracy = safe_div(tp + tn, tp + tn + fp + fn)\n",
    "    precision = safe_div(tp, tp + fp)\n",
    "    recall = safe_div(tp, tp + fn)\n",
    "    f1 = 2 * safe_div(recall * precision, recall + precision)\n",
    "    \n",
    "    return [accuracy, precision, recall, f1]\n",
    "\n",
    "def safe_div(p, q):\n",
    "    p, q = float(p), float(q)\n",
    "    \n",
    "    if np.abs(q) < 1.0e-20:\n",
    "        return np.sign(p)\n",
    "    \n",
    "    return p / q"
   ]
  },
  {
   "cell_type": "code",
   "execution_count": 7,
   "id": "0211339c",
   "metadata": {},
   "outputs": [],
   "source": [
    "def relu(x):\n",
    "    return np.maximum(x, 0)\n",
    "\n",
    "def sigmoid(x):\n",
    "    return np.exp(-relu(-x)) / (1.0 + np.exp(-np.abs(x)))\n",
    "\n",
    "def sigmoid_derv(x, y):\n",
    "    return y*(1-y)\n",
    "\n",
    "def sigmoid_cross_entropy_with_logits(z, x):\n",
    "    return relu(x) - x * z + np.log(1 + np.exp(-np.abs(x)))\n",
    "\n",
    "def sigmoid_cross_entropy_with_logits_derv(z, x):\n",
    "    return -z + sigmoid(x)"
   ]
  },
  {
   "cell_type": "code",
   "execution_count": 8,
   "id": "612d06f6",
   "metadata": {},
   "outputs": [
    {
     "name": "stdout",
     "output_type": "stream",
     "text": [
      "Epoch 1 : loss = 15.074, result = 0.963,0.861,0.725,0.787\n",
      "Epoch 2 : loss = 12.927, result = 0.948,0.674,0.862,0.757\n",
      "Epoch 3 : loss = 11.163, result = 0.971,0.987,0.701,0.820\n",
      "Epoch 4 : loss = 12.410, result = 0.956,0.989,0.530,0.690\n",
      "Epoch 5 : loss = 11.734, result = 0.964,0.986,0.626,0.766\n",
      "Epoch 6 : loss = 10.484, result = 0.969,0.966,0.686,0.802\n",
      "Epoch 7 : loss = 12.039, result = 0.976,0.981,0.754,0.853\n",
      "Epoch 8 : loss = 12.412, result = 0.973,0.919,0.781,0.845\n",
      "Epoch 9 : loss = 10.885, result = 0.963,0.986,0.611,0.754\n",
      "Epoch 10 : loss = 12.293, result = 0.975,0.935,0.781,0.852\n",
      "\n",
      " Final Test : final result = 0.975,0.935,0.781,0.852\n"
     ]
    }
   ],
   "source": [
    "slp_binary_classification()"
   ]
  },
  {
   "cell_type": "code",
   "execution_count": 9,
   "id": "aba38b45",
   "metadata": {},
   "outputs": [
    {
     "name": "stdout",
     "output_type": "stream",
     "text": [
      "Epoch 1 : loss = 39.136, result = 0.909,0.909,0.910,0.909\n",
      "Epoch 2 : loss = 36.505, result = 0.839,0.785,0.934,0.853\n",
      "Epoch 3 : loss = 35.209, result = 0.916,0.967,0.862,0.911\n",
      "Epoch 4 : loss = 35.107, result = 0.888,0.987,0.787,0.876\n",
      "Epoch 5 : loss = 35.467, result = 0.922,0.961,0.880,0.919\n",
      "Epoch 6 : loss = 35.625, result = 0.877,0.993,0.760,0.861\n",
      "Epoch 7 : loss = 32.221, result = 0.913,0.927,0.898,0.912\n",
      "Epoch 8 : loss = 31.688, result = 0.891,0.983,0.796,0.879\n",
      "Epoch 9 : loss = 33.389, result = 0.896,0.876,0.922,0.899\n",
      "Epoch 10 : loss = 33.949, result = 0.914,0.916,0.912,0.914\n",
      "\n",
      " Final Test : final result = 0.914,0.916,0.912,0.914\n"
     ]
    }
   ],
   "source": [
    "slp_binary_classification(adjust_ratio = True)"
   ]
  },
  {
   "cell_type": "code",
   "execution_count": null,
   "id": "2885f175",
   "metadata": {},
   "outputs": [],
   "source": []
  }
 ],
 "metadata": {
  "kernelspec": {
   "display_name": "Python 3 (ipykernel)",
   "language": "python",
   "name": "python3"
  },
  "language_info": {
   "codemirror_mode": {
    "name": "ipython",
    "version": 3
   },
   "file_extension": ".py",
   "mimetype": "text/x-python",
   "name": "python",
   "nbconvert_exporter": "python",
   "pygments_lexer": "ipython3",
   "version": "3.9.7"
  }
 },
 "nbformat": 4,
 "nbformat_minor": 5
}
