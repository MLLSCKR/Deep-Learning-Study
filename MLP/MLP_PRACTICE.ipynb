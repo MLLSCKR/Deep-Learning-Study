{
 "cells": [
  {
   "cell_type": "markdown",
   "id": "4bcf341d",
   "metadata": {},
   "source": [
    "# Binary Classification Realization with MLP"
   ]
  },
  {
   "cell_type": "code",
   "execution_count": 1,
   "id": "6c1d8588",
   "metadata": {},
   "outputs": [],
   "source": [
    "###########################\n",
    "# With One Hidden Layer\n",
    "###########################"
   ]
  },
  {
   "cell_type": "code",
   "execution_count": 2,
   "id": "233b1895",
   "metadata": {
    "scrolled": false
   },
   "outputs": [
    {
     "name": "stdout",
     "output_type": "stream",
     "text": [
      "Epoch 1 : loss = 35.182, accuracy = 0.547/0.803\n",
      "Epoch 2 : loss = 8.874, accuracy = 0.814/0.809\n",
      "Epoch 3 : loss = 8.134, accuracy = 0.805/0.803\n",
      "Epoch 4 : loss = 8.017, accuracy = 0.802/0.804\n",
      "Epoch 5 : loss = 7.924, accuracy = 0.803/0.802\n",
      "Epoch 6 : loss = 7.843, accuracy = 0.802/0.803\n",
      "Epoch 7 : loss = 7.767, accuracy = 0.802/0.804\n",
      "Epoch 8 : loss = 7.697, accuracy = 0.802/0.806\n",
      "Epoch 9 : loss = 7.634, accuracy = 0.805/0.804\n",
      "Epoch 10 : loss = 7.574, accuracy = 0.804/0.805\n",
      "\n",
      " Final Test : final accuracy = 0.805\n",
      "[[0.55842942]\n",
      " [0.76572744]\n",
      " [0.00429812]\n",
      " [2.24857982]\n",
      " [1.78899292]\n",
      " [0.66286655]\n",
      " [2.723841  ]\n",
      " [0.65809305]\n",
      " [0.54706306]\n",
      " [1.1225188 ]]\n",
      "[4.52425871]\n",
      "Epoch 1 : loss = 7.521, accuracy = 0.803/0.757\n",
      "Epoch 2 : loss = 6.212, accuracy = 0.817/0.803\n",
      "Epoch 3 : loss = 5.859, accuracy = 0.824/0.835\n",
      "Epoch 4 : loss = 5.598, accuracy = 0.828/0.838\n",
      "Epoch 5 : loss = 5.440, accuracy = 0.830/0.838\n",
      "Epoch 6 : loss = 5.240, accuracy = 0.834/0.796\n",
      "Epoch 7 : loss = 5.201, accuracy = 0.834/0.850\n",
      "Epoch 8 : loss = 5.135, accuracy = 0.834/0.820\n",
      "Epoch 9 : loss = 5.172, accuracy = 0.834/0.812\n",
      "Epoch 10 : loss = 5.157, accuracy = 0.834/0.846\n",
      "\n",
      " Final Test : final accuracy = 0.846\n"
     ]
    }
   ],
   "source": [
    "%run ../Regression_Analysis/SLP_REGRESSION.ipynb"
   ]
  },
  {
   "cell_type": "code",
   "execution_count": 3,
   "id": "a0c2f33d",
   "metadata": {},
   "outputs": [
    {
     "data": {
      "text/plain": [
       "'\\neach layer of the neural network needs a pair of parameters consisting of a weight\\nmatrix and a bias vector, as in a single layer perceptron.\\nalloc_param_pair fucntion creates and initializes a parameter pair for one layer.\\n'"
      ]
     },
     "execution_count": 3,
     "metadata": {},
     "output_type": "execute_result"
    }
   ],
   "source": [
    "# Init model (hidden layer 1)\n",
    "def init_model_hidden1():\n",
    "    global pm_output, pm_hidden, input_cnt, output_cnt, hidden_cnt\n",
    "    \n",
    "    # parameter for hidden layer(weight and bias)\n",
    "    pm_hidden = alloc_param_pair([input_cnt, hidden_cnt])\n",
    "    \n",
    "    # parameter for output layer(weight and bias)\n",
    "    pm_output = alloc_param_pair([hidden_cnt, output_cnt])\n",
    "\n",
    "def alloc_param_pair(shape):\n",
    "    weight = np.random.normal(RND_MEAN, RND_STD, shape)\n",
    "    bias = np.zeros(shape[-1])\n",
    "    return {'w':weight, 'b':bias}\n",
    "\n",
    "\"\"\"\n",
    "each layer of the neural network needs a pair of parameters consisting of a weight\n",
    "matrix and a bias vector, as in a single layer perceptron.\n",
    "alloc_param_pair fucntion creates and initializes a parameter pair for one layer.\n",
    "\"\"\""
   ]
  },
  {
   "cell_type": "code",
   "execution_count": 4,
   "id": "4bf50efa",
   "metadata": {},
   "outputs": [
    {
     "data": {
      "text/plain": [
       "\"\\nforward neural net hidden1 function's hidden vector return value is used for \\ncalculating partial differentiation in backward propagation process\\n\""
      ]
     },
     "execution_count": 4,
     "metadata": {},
     "output_type": "execute_result"
    }
   ],
   "source": [
    "def forward_neuralnet_hidden1(x):\n",
    "    global pm_output, pm_hidden\n",
    "    \n",
    "    # hidden vector\n",
    "    hidden = relu(np.matmul(x, pm_hidden['w']) + pm_hidden['b'])\n",
    "    \n",
    "    # output vector\n",
    "    output = np.matmul(hidden, pm_output['w']) + pm_output['b']\n",
    "        \n",
    "    return output, [x, hidden]\n",
    "\n",
    "def relu(x):\n",
    "    return np.maximum(x, 0)\n",
    "\n",
    "\"\"\"\n",
    "forward neural net hidden1 function's hidden vector return value is used for \n",
    "calculating partial differentiation in backward propagation process\n",
    "\"\"\""
   ]
  },
  {
   "cell_type": "code",
   "execution_count": 31,
   "id": "3cc51c02",
   "metadata": {},
   "outputs": [],
   "source": [
    "def backprop_neuralnet_hidden1(G_output, aux):\n",
    "    global pm_output, pm_hidden\n",
    "    \n",
    "    # aux is forward_neuralnet_hidden1 function's second return\n",
    "    # aux = [x, hidden] ; x and hidden vector\n",
    "    x, hidden = aux\n",
    "    \n",
    "    ################################################################################\n",
    "    # backprop 1\n",
    "    ################################################################################\n",
    "    \n",
    "    # G_output = delta L / delta Y\n",
    "    g_output_w_out = hidden.transpose()\n",
    "    \n",
    "    # G_w_out = delta L / delta W = (delta Y / delta W) * (delta L / delta Y)\n",
    "    # = g_output_w_out * G_output\n",
    "    G_w_out = np.matmul(g_output_w_out, G_output)\n",
    "    G_b_out = np.sum(G_output, axis = 0)\n",
    "    \n",
    "    g_output_hidden = pm_output['w'].transpose()\n",
    "    G_hidden = np.matmul(G_output, g_output_hidden)\n",
    "    \n",
    "    pm_output['w'] -= LEARNING_RATE * G_w_out\n",
    "    pm_output['b'] -= LEARNING_RATE * G_b_out  \n",
    "    \n",
    "    ################################################################################\n",
    "    # backprop 2\n",
    "    ################################################################################\n",
    "    \n",
    "    G_hidden = G_hidden * relu_derv(hidden)\n",
    "    \n",
    "    g_hidden_w_hid = x.transpose()\n",
    "    G_w_hid = np.matmul(g_hidden_w_hid, G_hidden)\n",
    "    G_b_hid = np.sum(G_hidden, axis = 0)\n",
    "    \n",
    "    pm_hidden['w'] -= LEARNING_RATE * G_w_hid\n",
    "    pm_hidden['b'] -= LEARNING_RATE * G_b_hid"
   ]
  },
  {
   "cell_type": "code",
   "execution_count": 6,
   "id": "b4556f2d",
   "metadata": {},
   "outputs": [
    {
     "data": {
      "text/plain": [
       "'\\nwhen y has positive value -> np.sign(y) return 1\\nwhen y has zero valeu -> np.sign(y) return 0\\n\\ny has only two types, zero or positive\\n'"
      ]
     },
     "execution_count": 6,
     "metadata": {},
     "output_type": "execute_result"
    }
   ],
   "source": [
    "def relu_derv(y):\n",
    "    return np.sign(y)\n",
    "\n",
    "\"\"\"\n",
    "when y has positive value -> np.sign(y) return 1\n",
    "when y has zero valeu -> np.sign(y) return 0\n",
    "\n",
    "y has only two types, zero or positive\n",
    "\"\"\""
   ]
  },
  {
   "cell_type": "code",
   "execution_count": 7,
   "id": "b6826620",
   "metadata": {},
   "outputs": [],
   "source": [
    "###########################\n",
    "# With Multi Hidden Layer\n",
    "###########################"
   ]
  },
  {
   "cell_type": "code",
   "execution_count": 8,
   "id": "0d0750f9",
   "metadata": {},
   "outputs": [],
   "source": [
    "def init_model_hiddens():\n",
    "    global pm_output, pm_hiddens, input_cnt, output_cnt, hidden_config\n",
    "    \n",
    "    pm_hiddens = []\n",
    "    prev_cnt = input_cnt\n",
    "    \n",
    "    for hidden_cnt in hidden_config:\n",
    "        pm_hiddens.append(alloc_param_pair([prev_cnt, hidden_cnt]))\n",
    "        prev_cnt = hidden_cnt\n",
    "    \n",
    "    pm_output = alloc_param_pair([prev_cnt, output_cnt])"
   ]
  },
  {
   "cell_type": "code",
   "execution_count": 9,
   "id": "6f84d0b0",
   "metadata": {},
   "outputs": [],
   "source": [
    "def forward_neuralnet_hiddens(x):\n",
    "    global pm_output, pm_hiddens\n",
    "    \n",
    "    # hidden vectors\n",
    "    hidden = x\n",
    "    hiddens = [x]\n",
    "    \n",
    "    for pm_hidden in pm_hiddens:\n",
    "        hidden = relu(np.matmul(hidden, pm_hidden['x']) + pm_hidden['b'])\n",
    "        hiddens.append(hidden)\n",
    "    \n",
    "    # output vector\n",
    "    output = np.matmul(hidden, pm_output['w']) + pm_output['b']\n",
    "    \n",
    "    return output, hiddens"
   ]
  },
  {
   "cell_type": "code",
   "execution_count": 10,
   "id": "59813d51",
   "metadata": {},
   "outputs": [],
   "source": [
    "def backprop_neuralnet_hiddens(G_output, aux):\n",
    "    global pm_output, pm_hiddens\n",
    "    \n",
    "    # aux is forward_neuralnet_hidden1 function's second return\n",
    "    # aux = [output, hiddens]\n",
    "    # hiddens = hidden vectors [x(input), hidden1(1st hidden layer vector), ...]\n",
    "    hiddens = aux\n",
    "    \n",
    "    ################################################################################\n",
    "    # backprop for ouptut - hidden layers\n",
    "    ################################################################################\n",
    "    \n",
    "    # G_output = delta L / delta Y\n",
    "    g_output_w_out = hiddens[-1].transpose()\n",
    "    \n",
    "    # G_w_out = delta L / delta W = (delta Y / delta W) * (delta L / delta Y)\n",
    "    # = g_output_w_out * G_output\n",
    "    G_w_out = np.matmul(g_output_w_out, G_output)\n",
    "    G_b_out = np.sum(G_output, axis = 0)\n",
    "    \n",
    "    g_output_hidden = pm_output['w'].transpose()\n",
    "    G_hidden = np.matmul(G_output, g_output_hidden)\n",
    "    \n",
    "    pm_output['w'] -= LEARNING_RATE * G_w_out\n",
    "    pm_output['b'] -= LEARNING_RATE * G_b_out\n",
    "    \n",
    "    ################################################################################\n",
    "    # backprop for hidden layers - input\n",
    "    ################################################################################\n",
    "    \n",
    "    for n in reversed(range(len(pm_hiddens))):\n",
    "        G_hidden = G_hidden * relu_derv(hiddens[n + 1])\n",
    "        \n",
    "        g_hidden_w_hid = hiddens[n].transpose()\n",
    "        G_w_hid = np.matmul(g_hidden_w_hid, G_hidden)\n",
    "        G_b_hid = np.sum(G_hidden, axis = 0)\n",
    "        \n",
    "        g_hidden_hidden = pm_hiddens[n]['w'].transpose()\n",
    "        G_hidden = np.matmul(G_hidden, g_hidden_hidden)\n",
    "        \n",
    "        pm_hiddens[n]['w'] -= LEARNING_RATE * G_w_hid\n",
    "        pm_hiddens[n]['b'] -= LEARNING_RATE * G_b_hid"
   ]
  },
  {
   "cell_type": "code",
   "execution_count": 11,
   "id": "c39af1d5",
   "metadata": {},
   "outputs": [],
   "source": [
    "global hidden_config\n",
    "\n",
    "def init_model():\n",
    "    if hidden_config is not None:\n",
    "        print('MLP with {} hidden layers is executed.' .format(len(hidden_config)))\n",
    "        \n",
    "        init_model_hiddens()\n",
    "    else:\n",
    "        print('MLP with 1 hidden layer is executed')\n",
    "        \n",
    "        init_model_hidden1()\n",
    "\n",
    "def forward_neuralnet(x):\n",
    "    if hidden_config is not None:\n",
    "        return forward_neuralnet_hiddens(x)\n",
    "    else:\n",
    "        return forward_neuralnet_hidden1(x)\n",
    "    \n",
    "def backprop_neuralnet(G_output, hiddens):\n",
    "    if hidden_config is not None:\n",
    "        return backprop_neuralnet_hiddens(G_output, hiddens)\n",
    "    else:\n",
    "        return backprop_neuralnet_hidden1(G_output, hiddens)"
   ]
  },
  {
   "cell_type": "code",
   "execution_count": 12,
   "id": "67106d96",
   "metadata": {},
   "outputs": [],
   "source": [
    "def set_hidden(info):\n",
    "    global hidden_cnt, hidden_config\n",
    "    \n",
    "    if isinstance(info, int):\n",
    "        hidden_cnt = info\n",
    "        hidden_config = None\n",
    "    else:\n",
    "        hidden_config = info\n"
   ]
  },
  {
   "cell_type": "code",
   "execution_count": 13,
   "id": "17b5441a",
   "metadata": {},
   "outputs": [],
   "source": [
    "def eval_accuracy(output, y):\n",
    "   \n",
    "    mdiff = np.mean(np.abs((output - y)/y))\n",
    "    \n",
    "    return 1 - mdiff"
   ]
  },
  {
   "cell_type": "code",
   "execution_count": 14,
   "id": "95001a28",
   "metadata": {},
   "outputs": [],
   "source": [
    "def backprop_postproc(G_loss, diff):\n",
    "    \n",
    "    shape = diff.shape\n",
    "    \n",
    "    g_loss_square = np.ones(shape) / np.prod(shape)\n",
    "    g_square_diff = 2 * diff\n",
    "    g_diff_output = 1\n",
    "    \n",
    "    G_square = g_loss_square * G_loss\n",
    "    G_diff = g_square_diff * G_square\n",
    "    G_output = g_diff_output * G_diff\n",
    "    \n",
    "    return G_output  "
   ]
  },
  {
   "cell_type": "code",
   "execution_count": 34,
   "id": "f2b84a1d",
   "metadata": {},
   "outputs": [
    {
     "name": "stdout",
     "output_type": "stream",
     "text": [
      "MLP with 0 hidden layers is executed.\n",
      "Epoch 1 : loss = 7.391, accuracy = 0.807/0.775\n",
      "Epoch 2 : loss = 6.065, accuracy = 0.821/0.811\n",
      "Epoch 3 : loss = 5.852, accuracy = 0.822/0.832\n",
      "Epoch 4 : loss = 5.517, accuracy = 0.829/0.844\n",
      "Epoch 5 : loss = 5.264, accuracy = 0.833/0.832\n",
      "Epoch 6 : loss = 5.252, accuracy = 0.834/0.848\n",
      "Epoch 7 : loss = 5.217, accuracy = 0.834/0.815\n",
      "Epoch 8 : loss = 5.108, accuracy = 0.836/0.812\n",
      "Epoch 9 : loss = 5.095, accuracy = 0.836/0.843\n",
      "Epoch 10 : loss = 5.054, accuracy = 0.836/0.839\n",
      "\n",
      " Final Test : final accuracy = 0.839\n"
     ]
    }
   ],
   "source": [
    "set_hidden([])\n",
    "abalone_exec()"
   ]
  },
  {
   "cell_type": "code",
   "execution_count": 35,
   "id": "15e12b88",
   "metadata": {},
   "outputs": [
    {
     "name": "stdout",
     "output_type": "stream",
     "text": [
      "MLP with 1 hidden layer is executed\n",
      "Epoch 10 : loss = 10.545, accuracy = 0.728/0.734\n",
      "Epoch 20 : loss = 10.533, accuracy = 0.729/0.719\n",
      "Epoch 30 : loss = 10.561, accuracy = 0.728/0.683\n",
      "Epoch 40 : loss = 10.550, accuracy = 0.728/0.748\n",
      "Epoch 50 : loss = 10.547, accuracy = 0.727/0.753\n",
      "\n",
      " Final Test : final accuracy = 0.753\n"
     ]
    }
   ],
   "source": [
    "set_hidden(4)\n",
    "abalone_exec(epoch_count = 50, report = 10)"
   ]
  },
  {
   "cell_type": "code",
   "execution_count": 36,
   "id": "c724b5e4",
   "metadata": {},
   "outputs": [
    {
     "name": "stdout",
     "output_type": "stream",
     "text": [
      "MLP with 1 hidden layer is executed\n",
      "Epoch 10 : loss = 10.523, accuracy = 0.729/0.713\n",
      "Epoch 20 : loss = 10.556, accuracy = 0.729/0.695\n",
      "Epoch 30 : loss = 10.518, accuracy = 0.729/0.712\n",
      "Epoch 40 : loss = 10.468, accuracy = 0.730/0.743\n",
      "Epoch 50 : loss = 10.538, accuracy = 0.728/0.718\n",
      "\n",
      " Final Test : final accuracy = 0.718\n"
     ]
    }
   ],
   "source": [
    "abalone_exec(epoch_count=50, report = 10)"
   ]
  },
  {
   "cell_type": "code",
   "execution_count": null,
   "id": "5a12359d",
   "metadata": {},
   "outputs": [],
   "source": []
  }
 ],
 "metadata": {
  "kernelspec": {
   "display_name": "Python 3 (ipykernel)",
   "language": "python",
   "name": "python3"
  },
  "language_info": {
   "codemirror_mode": {
    "name": "ipython",
    "version": 3
   },
   "file_extension": ".py",
   "mimetype": "text/x-python",
   "name": "python",
   "nbconvert_exporter": "python",
   "pygments_lexer": "ipython3",
   "version": "3.9.12"
  }
 },
 "nbformat": 4,
 "nbformat_minor": 5
}
